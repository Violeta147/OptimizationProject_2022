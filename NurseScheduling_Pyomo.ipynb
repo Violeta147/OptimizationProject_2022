{
 "cells": [
  {
   "cell_type": "markdown",
   "id": "30f255e5",
   "metadata": {},
   "source": [
    "# <font color='navy'> Nurse Scheduling Problem\n",
    "## <font color='navy'> Pyomo Approach"
   ]
  },
  {
   "cell_type": "markdown",
   "id": "f44a7333",
   "metadata": {},
   "source": [
    "### <font color='navy'>Libraries"
   ]
  },
  {
   "cell_type": "code",
   "execution_count": 1,
   "id": "201d9de3",
   "metadata": {},
   "outputs": [],
   "source": [
    "# !pip install pyomo\n",
    "# !pip install gurobipy\n",
    "\n",
    "from __future__ import division\n",
    "from pyomo.environ import*\n",
    "from pyomo.opt import*\n",
    "import numpy as np"
   ]
  },
  {
   "cell_type": "markdown",
   "id": "3814ec5b",
   "metadata": {},
   "source": [
    "### <font color='navy'>Problem proposal\n",
    "\n",
    "#### <font color='navy'> Variables\n",
    "- Nurses: $n \\in N = \\{1...5\\}$\n",
    "- Shifts: $s \\in S = \\{1...3\\}$\n",
    "- Days: $d \\in D = \\{1, 7\\}$"
   ]
  },
  {
   "cell_type": "markdown",
   "id": "d27c761d",
   "metadata": {},
   "source": [
    "#### <font color='navy'>Objective function and constraints:\n",
    "\n",
    "- Each shift is assigned to a single nurse per day:\n",
    "$$\\sum^{}_{n \\in N}\\, X_{nsd} = 1\\;\\;\\;\\;\\;\\;\\;\\;\\;\\;\\;\\;(1)$$\n",
    "    \n",
    "- Each nurse must work at most one shift per day:\n",
    "$$\\sum^{}_{s \\in S}\\, X_{nsd} \\leq 1\\;\\;\\;\\;\\;\\;\\;\\;\\;\\;\\;\\;(2)$$\n",
    "\n",
    "- Each nurse works at least 2 shifts per week:\n",
    "$$\\sum^{}_{d \\in D}\\,\\sum^{}_{s \\in S}\\, X_{nsd} \\geq 2\\;\\;\\;\\;\\;\\;\\;\\;\\;\\;\\;\\;(3)$$\n",
    "\n",
    "- Each nurse must not work consecutive shifts:\n",
    "$$X_{i,3,t} + X_{i,1,t+1} \\leq 1\\;\\;\\;\\;\\;\\;\\;\\;\\;\\;\\;\\;(4)$$"
   ]
  },
  {
   "cell_type": "markdown",
   "id": "6f0322c7",
   "metadata": {},
   "source": [
    "- **Objective function:** minimize the total number of weekly shifts worked by each nurse.\n",
    "\n",
    "$$Minimize \\sum_{n,s,d}{X_{n,s,d}}$$"
   ]
  },
  {
   "cell_type": "code",
   "execution_count": 4,
   "id": "7adeb655",
   "metadata": {},
   "outputs": [],
   "source": [
    "model = AbstractModel()\n",
    "model.n = RangeSet(1,5) # Individuals (i)\n",
    "model.s = RangeSet(1,3) # Shifts (j)\n",
    "model.d = RangeSet(1,7) # Days (t)\n",
    "\n",
    "model.X = Var(model.n, model.s, model.d, within=Binary)\n",
    "model.Nshift= Var(within=NonNegativeReals)\n",
    "\n",
    "# There must be at least 1 nurse on each shift:\n",
    "def Constraint_1(model, d, s):\n",
    "    return sum(model.X[n,s,d] for n in model.n) == 1\n",
    "model.C1 = Constraint(model.d, model.s, rule=Constraint_1)\n",
    "\n",
    "# Every nurse must not work more than 1 shift per day:\n",
    "def Constraint_2(model, d, n):\n",
    "    return sum(model.X[n,s,d] for s in model.s) <= 1\n",
    "model.C2 = Constraint(model.d, model.n, rule=Constraint_2)\n",
    "\n",
    "# Every nurse must work at least 2 shifts per week:\n",
    "def Constraint_3(model, d, n):\n",
    "    return sum(model.X[n,s,d] for s in model.s for d in model.d) >= 2\n",
    "model.C3 = Constraint(model.d, model.n, rule=Constraint_3)\n",
    "\n",
    "# Each individual must not work consecutive shifts:\n",
    "def Constraint_4(model, d, n):\n",
    "    if d<7:\n",
    "        return model.X[n,3,d] + model.X[n,3,d+1] <= 1\n",
    "    else:\n",
    "        return Constraint.Skip\n",
    "model.C4 = Constraint(model.d,model.n, rule=Constraint_4)\n",
    "\n",
    "# Every individual must get at least one night shift break, preferably two.\n",
    "def Constraint_5(model,d,n):\n",
    "    if d<7:\n",
    "        return model.X[n,3,d]+ model.X[n,1,d+1] <= 1\n",
    "    else:\n",
    "        return Constraint.Skip\n",
    "model.C5 = Constraint(model.d, model.n, rule=Constraint_5)\n",
    "\n",
    "def Constraint_6(model, n):\n",
    "    return sum(model.X[n,3,d] for d in model.d) <= model.Nshift\n",
    "model.C6 = Constraint(model.n,  rule=Constraint_6)\n",
    "\n",
    "def Obj_Function(model):\n",
    "    #return quicksum(model.X[i,j,t] for i in model.i for j in model.j for t in model.t )\n",
    "    return sum(model.X[n,s,d] for n in model.n for s in model.s for d in model.d) \n",
    "model.obj = Objective(rule=Obj_Function, sense=minimize)\n",
    "\n",
    "solver = SolverFactory('gurobi')\n",
    "instance = model.create_instance()\n",
    "result = solver.solve(instance, load_solutions=True) # solves and updates instance"
   ]
  },
  {
   "cell_type": "code",
   "execution_count": 5,
   "id": "ee4339d2",
   "metadata": {},
   "outputs": [
    {
     "name": "stdout",
     "output_type": "stream",
     "text": [
      "Day 1\n",
      "  Nurse 1 works at shift 1\n",
      "  Nurse 2 works at shift 2\n",
      "  Nurse 5 works at shift 3\n",
      "Day 2\n",
      "  Nurse 1 works at shift 3\n",
      "  Nurse 2 works at shift 2\n",
      "  Nurse 3 works at shift 1\n",
      "Day 3\n",
      "  Nurse 2 works at shift 2\n",
      "  Nurse 4 works at shift 1\n",
      "  Nurse 5 works at shift 3\n",
      "Day 4\n",
      "  Nurse 1 works at shift 1\n",
      "  Nurse 2 works at shift 3\n",
      "  Nurse 5 works at shift 2\n",
      "Day 5\n",
      "  Nurse 1 works at shift 2\n",
      "  Nurse 3 works at shift 3\n",
      "  Nurse 5 works at shift 1\n",
      "Day 6\n",
      "  Nurse 1 works at shift 2\n",
      "  Nurse 2 works at shift 1\n",
      "  Nurse 4 works at shift 3\n",
      "Day 7\n",
      "  Nurse 1 works at shift 3\n",
      "  Nurse 2 works at shift 1\n",
      "  Nurse 3 works at shift 2\n"
     ]
    }
   ],
   "source": [
    "for d in model.d:\n",
    "    print('Day {}'.format(d))\n",
    "    for n in model.n:\n",
    "        for s in model.s:\n",
    "            if value(instance.X[n,s,d]) == 1:\n",
    "                print('  Nurse {} works at shift {}'.format(n, s))\n",
    "#             else:\n",
    "#                 print('Nurse {} is not requested'.format(n))"
   ]
  }
 ],
 "metadata": {
  "kernelspec": {
   "display_name": "Python 3 (ipykernel)",
   "language": "python",
   "name": "python3"
  },
  "language_info": {
   "codemirror_mode": {
    "name": "ipython",
    "version": 3
   },
   "file_extension": ".py",
   "mimetype": "text/x-python",
   "name": "python",
   "nbconvert_exporter": "python",
   "pygments_lexer": "ipython3",
   "version": "3.8.8"
  }
 },
 "nbformat": 4,
 "nbformat_minor": 5
}
