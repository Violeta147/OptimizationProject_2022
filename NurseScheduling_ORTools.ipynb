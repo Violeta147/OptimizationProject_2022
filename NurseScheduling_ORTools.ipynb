{
 "cells": [
  {
   "cell_type": "markdown",
   "id": "d75a2b00",
   "metadata": {},
   "source": [
    "# <font color='navy'> Nurse Scheduling Problem\n",
    "## <font color='navy'> OR-Tools Approach"
   ]
  },
  {
   "cell_type": "markdown",
   "id": "b17dcb3d",
   "metadata": {},
   "source": [
    "### <font color='navy'>Libraries"
   ]
  },
  {
   "cell_type": "code",
   "execution_count": 1,
   "id": "0f82e926",
   "metadata": {},
   "outputs": [],
   "source": [
    "from ortools.sat.python import cp_model"
   ]
  },
  {
   "cell_type": "markdown",
   "id": "642440a4",
   "metadata": {},
   "source": [
    "### <font color='navy'>Problem proposal\n",
    "\n",
    "#### <font color='navy'> Variables\n",
    "- Nurses: $n \\in N = \\{1...5\\}$\n",
    "- Shifts: $s \\in S = \\{1...3\\}$\n",
    "- Days: $d \\in D = \\{1, 7\\}$"
   ]
  },
  {
   "cell_type": "code",
   "execution_count": 2,
   "id": "d58f3460",
   "metadata": {},
   "outputs": [],
   "source": [
    "num_nurses = 5\n",
    "num_shifts = 3\n",
    "num_days = 7\n",
    "all_nurses = range(num_nurses)\n",
    "all_shifts = range(num_shifts)\n",
    "all_days = range(num_days)"
   ]
  },
  {
   "cell_type": "markdown",
   "id": "d27c761d",
   "metadata": {},
   "source": [
    "#### <font color='navy'>Objective function and constraints:\n",
    "\n",
    "- Each shift is assigned to a single nurse per day:\n",
    "$$\\sum^{}_{n \\in N}\\, X_{nsd} = 1\\;\\;\\;\\;\\;\\;\\;\\;\\;\\;\\;\\;(1)$$\n",
    "    \n",
    "- Each nurse must work at most one shift per day:\n",
    "$$\\sum^{}_{s \\in S}\\, X_{nsd} \\leq 1\\;\\;\\;\\;\\;\\;\\;\\;\\;\\;\\;\\;(2)$$\n",
    "\n",
    "- Each nurse works at least 2 shifts per week:\n",
    "$$\\sum^{}_{d \\in D}\\,\\sum^{}_{s \\in S}\\, X_{nsd} \\geq 2\\;\\;\\;\\;\\;\\;\\;\\;\\;\\;\\;\\;(3)$$\n",
    "\n",
    "- Each nurse must not work consecutive shifts:\n",
    "$$X_{i,3,t} + X_{i,1,t+1} \\leq 1\\;\\;\\;\\;\\;\\;\\;\\;\\;\\;\\;\\;(4)$$"
   ]
  },
  {
   "cell_type": "markdown",
   "id": "97000bd4",
   "metadata": {},
   "source": [
    "- **Objective function:** minimize the total number of weekly shifts worked by each nurse.\n",
    "\n",
    "$$Minimize \\sum_{n,s,d}{X_{n,s,d}}$$"
   ]
  },
  {
   "cell_type": "code",
   "execution_count": 5,
   "id": "3fd6f7d2",
   "metadata": {},
   "outputs": [],
   "source": [
    "model = cp_model.CpModel()\n",
    "\n",
    "shifts = {}\n",
    "for n in all_nurses:\n",
    "    for d in all_days:\n",
    "        for s in all_shifts:\n",
    "            shifts[(n, d,\n",
    "                    s)] = model.NewBoolVar('shift_n%id%is%i' % (n, d, s))\n",
    "\n",
    "# There must be at least 1 nurse on each shift:\n",
    "for d in all_days:\n",
    "    for s in all_shifts:\n",
    "        model.AddExactlyOne(shifts[(n, d, s)] for n in all_nurses)\n",
    "\n",
    "# Every nurse must not work more than 1 shift per day:\n",
    "for n in all_nurses:\n",
    "    for d in all_days:\n",
    "        model.AddAtMostOne(shifts[(n, d, s)] for s in all_shifts)\n",
    "    \n",
    "# Every nurse must work at least 2 shifts per week:\n",
    "model.Add(sum(shifts[(n, d, s)]for s in all_shifts for d in all_days) >= 2)\n",
    "        \n",
    "# Distribute the shifts evenly:\n",
    "min_shifts_per_nurse = (num_shifts * num_days) // num_nurses\n",
    "if num_shifts * num_days % num_nurses == 0:\n",
    "    max_shifts_per_nurse = min_shifts_per_nurse\n",
    "else:\n",
    "    max_shifts_per_nurse = min_shifts_per_nurse + 1\n",
    "for n in all_nurses:\n",
    "    num_shifts_worked = []\n",
    "    for d in all_days:\n",
    "        for s in all_shifts:\n",
    "            num_shifts_worked.append(shifts[(n, d, s)])\n",
    "    model.Add(min_shifts_per_nurse <= sum(num_shifts_worked))\n",
    "    model.Add(sum(num_shifts_worked) <= max_shifts_per_nurse)\n",
    "    \n",
    "model.Minimize(sum(shifts[(n, d, s)] for n in all_nurses for s in all_shifts for d in all_days))"
   ]
  },
  {
   "cell_type": "markdown",
   "id": "996884e9",
   "metadata": {},
   "source": [
    "### <font color='navy'>Solver"
   ]
  },
  {
   "cell_type": "code",
   "execution_count": 7,
   "id": "b2820b67",
   "metadata": {},
   "outputs": [],
   "source": [
    "solver = cp_model.CpSolver()\n",
    "solver.parameters.linearization_level = 0\n",
    "\n",
    "# Enumerate all solutions:\n",
    "solver.parameters.enumerate_all_solutions = True"
   ]
  },
  {
   "cell_type": "code",
   "execution_count": 8,
   "id": "0eb139bc",
   "metadata": {},
   "outputs": [],
   "source": [
    "class NursesPartialSolutionPrinter(cp_model.CpSolverSolutionCallback):\n",
    "    \"\"\"Print intermediate solutions.\"\"\"\n",
    "\n",
    "    def __init__(self, shifts, num_nurses, num_days, num_shifts, limit):\n",
    "        cp_model.CpSolverSolutionCallback.__init__(self)\n",
    "        self._shifts = shifts\n",
    "        self._num_nurses = num_nurses\n",
    "        self._num_days = num_days\n",
    "        self._num_shifts = num_shifts\n",
    "        self._solution_count = 0\n",
    "        self._solution_limit = limit\n",
    "\n",
    "    def on_solution_callback(self):\n",
    "        self._solution_count += 1\n",
    "        print('\\nSolution %i' % self._solution_count)\n",
    "        for d in range(self._num_days):\n",
    "            print('Day %i' % int(d+1))\n",
    "            for n in range(self._num_nurses):\n",
    "                is_working = False\n",
    "                for s in range(self._num_shifts):\n",
    "                    if self.Value(self._shifts[(n, d, s)]):\n",
    "                        is_working = True\n",
    "                        print('  Nurse %i works shift %i' % (int(n+1), int(s+1)))\n",
    "        if self._solution_count >= self._solution_limit:\n",
    "            print('Stop search after %i solutions' % self._solution_limit)\n",
    "            self.StopSearch()\n",
    "\n",
    "    def solution_count(self):\n",
    "        return self._solution_count"
   ]
  },
  {
   "cell_type": "markdown",
   "id": "c41cbc8d",
   "metadata": {},
   "source": [
    "### <font color='navy'>Display Results"
   ]
  },
  {
   "cell_type": "code",
   "execution_count": 9,
   "id": "273c4058",
   "metadata": {},
   "outputs": [
    {
     "name": "stdout",
     "output_type": "stream",
     "text": [
      "\n",
      "Solution 1\n",
      "Day 1\n",
      "  Nurse 2 works shift 1\n",
      "  Nurse 4 works shift 3\n",
      "  Nurse 5 works shift 2\n",
      "Day 2\n",
      "  Nurse 3 works shift 1\n",
      "  Nurse 4 works shift 3\n",
      "  Nurse 5 works shift 2\n",
      "Day 3\n",
      "  Nurse 3 works shift 1\n",
      "  Nurse 4 works shift 2\n",
      "  Nurse 5 works shift 3\n",
      "Day 4\n",
      "  Nurse 1 works shift 3\n",
      "  Nurse 4 works shift 2\n",
      "  Nurse 5 works shift 1\n",
      "Day 5\n",
      "  Nurse 1 works shift 1\n",
      "  Nurse 2 works shift 3\n",
      "  Nurse 3 works shift 2\n",
      "Day 6\n",
      "  Nurse 1 works shift 1\n",
      "  Nurse 2 works shift 2\n",
      "  Nurse 3 works shift 3\n",
      "Day 7\n",
      "  Nurse 1 works shift 2\n",
      "  Nurse 2 works shift 3\n",
      "  Nurse 3 works shift 1\n"
     ]
    },
    {
     "data": {
      "text/plain": [
       "4"
      ]
     },
     "execution_count": 9,
     "metadata": {},
     "output_type": "execute_result"
    }
   ],
   "source": [
    "solution_limit = 3\n",
    "solution_printer = NursesPartialSolutionPrinter(shifts, num_nurses,\n",
    "                                                num_days, num_shifts,\n",
    "                                                solution_limit)\n",
    "\n",
    "solver.Solve(model, solution_printer)"
   ]
  }
 ],
 "metadata": {
  "kernelspec": {
   "display_name": "Python 3 (ipykernel)",
   "language": "python",
   "name": "python3"
  },
  "language_info": {
   "codemirror_mode": {
    "name": "ipython",
    "version": 3
   },
   "file_extension": ".py",
   "mimetype": "text/x-python",
   "name": "python",
   "nbconvert_exporter": "python",
   "pygments_lexer": "ipython3",
   "version": "3.8.8"
  }
 },
 "nbformat": 4,
 "nbformat_minor": 5
}
